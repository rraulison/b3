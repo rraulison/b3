{
  "nbformat": 4,
  "nbformat_minor": 0,
  "metadata": {
    "colab": {
      "name": "raspagem bovespa indices.ipynb",
      "provenance": [],
      "collapsed_sections": [],
      "authorship_tag": "ABX9TyPok2NqZyQS2uvwUlEeDdnQ",
      "include_colab_link": true
    },
    "kernelspec": {
      "name": "python3",
      "display_name": "Python 3"
    },
    "language_info": {
      "name": "python"
    }
  },
  "cells": [
    {
      "cell_type": "markdown",
      "metadata": {
        "id": "view-in-github",
        "colab_type": "text"
      },
      "source": [
        "<a href=\"https://colab.research.google.com/github/rraulison/b3/blob/main/raspagem_bovespa_indices.ipynb\" target=\"_parent\"><img src=\"https://colab.research.google.com/assets/colab-badge.svg\" alt=\"Open In Colab\"/></a>"
      ]
    },
    {
      "cell_type": "markdown",
      "source": [
        "Script para raspagem do site da b3 obtendo o retorno dos índices (IBRX, IBRA, SMALL, etc)"
      ],
      "metadata": {
        "id": "Ezl2sNlGQaaN"
      }
    },
    {
      "cell_type": "code",
      "metadata": {
        "id": "QSD_NCZCKHQN"
      },
      "source": [
        "!pip install -q selenium\n",
        "!apt-get -qq update\n",
        "!apt install -qq chromium-chromedriver"
      ],
      "execution_count": null,
      "outputs": []
    },
    {
      "cell_type": "code",
      "metadata": {
        "id": "aYBciNPhKTjG"
      },
      "source": [
        "import pandas as pd\n",
        "from time import sleep\n",
        "from selenium import webdriver\n",
        "from selenium.webdriver.common.by import By\n",
        "import os\n",
        "import calendar\n",
        "import time"
      ],
      "execution_count": 2,
      "outputs": []
    },
    {
      "cell_type": "code",
      "source": [
        "chrome_options = webdriver.ChromeOptions()\n",
        "chrome_options.add_argument('--headless')\n",
        "chrome_options.add_argument('--no-sandbox')\n",
        "chrome_options.add_argument('--disable-dev-shm-usage')\n",
        "wd_chrome = webdriver.Chrome(options=chrome_options)"
      ],
      "metadata": {
        "id": "GNKo0jP4YEvq"
      },
      "execution_count": 3,
      "outputs": []
    },
    {
      "cell_type": "code",
      "source": [
        "from selenium.webdriver.support.ui import WebDriverWait\n",
        "from selenium.webdriver.common.by import By\n",
        "from selenium.webdriver.support import expected_conditions as EC"
      ],
      "metadata": {
        "id": "ailKNJMONBUm"
      },
      "execution_count": 4,
      "outputs": []
    },
    {
      "cell_type": "markdown",
      "source": [
        "IBOV (1998~) = https://www.b3.com.br/pt_br/market-data-e-indices/indices/indices-amplos/indice-ibovespa-ibovespa-estatisticas-historicas.htm\n",
        "\n",
        "IBRX 100 (1998~) = https://www.b3.com.br/pt_br/market-data-e-indices/indices/indices-amplos/indice-brasil-100-ibrx-100-estatisticas-historicas.htm\n",
        "\n",
        "IBRX 50 (1998~)= https://www.b3.com.br/pt_br/market-data-e-indices/indices/indices-amplos/indice-brasil-50-ibrx-50-estatisticas-historicas.htm\n",
        "\n",
        "IBRA (2006~)= https://www.b3.com.br/pt_br/market-data-e-indices/indices/indices-amplos/indice-brasil-amplo-ibra-estatisticas-historicas.htm\n",
        "\n",
        "SMLL (2006~) = https://www.b3.com.br/pt_br/market-data-e-indices/indices/indices-de-segmentos-e-setoriais/indice-small-cap-smll-estatisticas-historicas.htm\n",
        "\n",
        "IFIX (2011~)= https://www.b3.com.br/pt_br/market-data-e-indices/indices/indices-de-segmentos-e-setoriais/indice-fundos-de-investimentos-imobiliarios-ifix-estatisticas-historicas.htm\n",
        "\n",
        "IEEX (1998~) = https://www.b3.com.br/pt_br/market-data-e-indices/indices/indices-de-segmentos-e-setoriais/indice-energia-eletrica-iee-estatisticas-historicas.htm\n",
        "\n",
        "IDIV (2006~) = https://www.b3.com.br/pt_br/market-data-e-indices/indices/indices-de-segmentos-e-setoriais/indice-dividendos-idiv-estatisticas-historicas.htm\n",
        "\n",
        "IVBX2 (2000~) = https://www.b3.com.br/pt_br/market-data-e-indices/indices/indices-de-segmentos-e-setoriais/indice-valor-2-linha-ivbx-2-estatisticas-historicas.htm"
      ],
      "metadata": {
        "id": "nziD1SvevesU"
      }
    },
    {
      "cell_type": "code",
      "source": [
        "#Baixa todos os arquivos a partir de 1998 a 2022 e renomeia para '1998.csv'\n",
        "url = 'https://www.b3.com.br/pt_br/market-data-e-indices/indices/indices-amplos/indice-ibovespa-ibovespa-estatisticas-historicas.htm'\n",
        "wd_chrome.get(url)\n",
        "iframe = wd_chrome.find_element(By.ID, value= \"bvmf_iframe\")    \n",
        "wd_chrome.switch_to.frame(iframe)\n",
        "\n",
        "for i in range(1998,2023): \n",
        "\n",
        "  WebDriverWait(wd_chrome, 5).until(EC.element_to_be_clickable((By.XPATH, '//*[@id=\"selectYear\"]'))).send_keys(f'{i}')\n",
        "  wd_chrome.switch_to.active_element\n",
        "  WebDriverWait(wd_chrome, 5).until(EC.element_to_be_clickable((By.LINK_TEXT, 'Download (ano selecionado)')))\n",
        "  down = wd_chrome.find_element(By.LINK_TEXT, value='Download (ano selecionado)')\n",
        "  \n",
        "  wd_chrome.execute_script(\"arguments[0].click();\", down)\n",
        "  time.sleep(2)\n",
        "  while not os.path.isfile('/content/Evolucao_Diaria.csv'):\n",
        "    time.sleep(0.2)\n",
        "  os.rename('Evolucao_Diaria.csv', f'{i}.csv')"
      ],
      "metadata": {
        "id": "VETJpI9ObZZ4"
      },
      "execution_count": 5,
      "outputs": []
    },
    {
      "cell_type": "code",
      "metadata": {
        "id": "QO1rYn8QLuOA"
      },
      "source": [
        "#cria uma lista com os nomes dos arquivos para iterar\n",
        "arquivo = !ls -1t *.csv\n",
        "arquivo = arquivo.sort()"
      ],
      "execution_count": 6,
      "outputs": []
    },
    {
      "cell_type": "code",
      "source": [
        "lista = []"
      ],
      "metadata": {
        "id": "iYTkcqBraSSe"
      },
      "execution_count": 14,
      "outputs": []
    },
    {
      "cell_type": "code",
      "source": [
        "#itera em cada arquivo csv transformando a data para o formato datetime pandas\n",
        "for i in arquivo:\n",
        "  df = pd.read_csv(i, sep=';', encoding='ISO-8859-1', skipfooter=2, engine='python', thousands='.', decimal=',', header=1, index_col=False)\n",
        "  df.columns = calendar.month_name[0:13]\n",
        "  df1 = df.melt('', var_name='Date', value_name='ibov')\n",
        "  df1 = df1.dropna()\n",
        "  df1.index = pd.to_datetime(i.rstrip('.csv') + df1.Date + df1.pop('').astype(str), format='%Y%B%d', errors='coerce')\n",
        "  df1 = df1.drop(columns=['Date'])\n",
        "  lista.append(df1)"
      ],
      "metadata": {
        "id": "a_fE2E_yJ_Hd"
      },
      "execution_count": 15,
      "outputs": []
    },
    {
      "cell_type": "code",
      "source": [
        "ibov = pd.concat(lista)"
      ],
      "metadata": {
        "id": "sohUCJvqT6C2"
      },
      "execution_count": 16,
      "outputs": []
    },
    {
      "cell_type": "code",
      "source": [
        "ibov.plot()"
      ],
      "metadata": {
        "id": "nv7PCZ8Cg8-i",
        "colab": {
          "base_uri": "https://localhost:8080/",
          "height": 273
        },
        "outputId": "0ee34964-521a-4af1-e9cc-3f89e3f6ba5b"
      },
      "execution_count": 17,
      "outputs": [
        {
          "output_type": "execute_result",
          "data": {
            "text/plain": [
              "<matplotlib.axes._subplots.AxesSubplot at 0x7fbbba357c50>"
            ]
          },
          "metadata": {},
          "execution_count": 17
        },
        {
          "output_type": "display_data",
          "data": {
            "text/plain": [
              "<Figure size 432x288 with 1 Axes>"
            ],
            "image/png": "[encoded data removed]"
          },
          "metadata": {
            "needs_background": "light"
          }
        }
      ]
    }
  ]
}