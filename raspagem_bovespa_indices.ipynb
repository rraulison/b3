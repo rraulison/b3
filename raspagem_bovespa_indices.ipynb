{
  "nbformat": 4,
  "nbformat_minor": 0,
  "metadata": {
    "colab": {
      "provenance": [],
      "mount_file_id": "1bci2tX5FOCpl2uTlDR2zXgheIzbiVRPx",
      "authorship_tag": "ABX9TyP6C3q24A92eU2nuOEWedB9",
      "include_colab_link": true
    },
    "kernelspec": {
      "name": "python3",
      "display_name": "Python 3"
    },
    "language_info": {
      "name": "python"
    }
  },
  "cells": [
    {
      "cell_type": "markdown",
      "metadata": {
        "id": "view-in-github",
        "colab_type": "text"
      },
      "source": [
        "<a href=\"https://colab.research.google.com/github/rraulison/b3/blob/main/raspagem_bovespa_indices.ipynb\" target=\"_parent\"><img src=\"https://colab.research.google.com/assets/colab-badge.svg\" alt=\"Open In Colab\"/></a>"
      ]
    },
    {
      "cell_type": "markdown",
      "source": [
        "Script para raspagem do site da b3 obtendo o retorno dos índices (IBOV, IBRX, IBRA, SMALL, etc)"
      ],
      "metadata": {
        "id": "Ezl2sNlGQaaN"
      }
    },
    {
      "cell_type": "code",
      "metadata": {
        "id": "QSD_NCZCKHQN"
      },
      "source": [
        "#esse metodo de instalar o chromdriver nao funciona mais desde a atualizacao do ubuntu do colab em 2023\n",
        "#!pip install -q selenium\n",
        "#!apt-get -q update\n",
        "#!apt install -q chromium-chromedriver"
      ],
      "execution_count": null,
      "outputs": []
    },
    {
      "cell_type": "markdown",
      "source": [
        "#Instalacao do chromedriver (solucao temporaria)"
      ],
      "metadata": {
        "id": "RgY51nKTbpSz"
      }
    },
    {
      "cell_type": "code",
      "source": [
        "%%shell\n",
        "# Ubuntu no longer distributes chromium-browser outside of snap\n",
        "#\n",
        "# Proposed solution: https://askubuntu.com/questions/1204571/how-to-install-chromium-without-snap\n",
        "\n",
        "# Add debian buster\n",
        "cat > /etc/apt/sources.list.d/debian.list <<'EOF'\n",
        "deb [arch=amd64 signed-by=/usr/share/keyrings/debian-buster.gpg] http://deb.debian.org/debian buster main\n",
        "deb [arch=amd64 signed-by=/usr/share/keyrings/debian-buster-updates.gpg] http://deb.debian.org/debian buster-updates main\n",
        "deb [arch=amd64 signed-by=/usr/share/keyrings/debian-security-buster.gpg] http://deb.debian.org/debian-security buster/updates main\n",
        "EOF\n",
        "\n",
        "# Add keys\n",
        "apt-key adv --keyserver keyserver.ubuntu.com --recv-keys DCC9EFBF77E11517\n",
        "apt-key adv --keyserver keyserver.ubuntu.com --recv-keys 648ACFD622F3D138\n",
        "apt-key adv --keyserver keyserver.ubuntu.com --recv-keys 112695A0E562B32A\n",
        "\n",
        "apt-key export 77E11517 | gpg --dearmour -o /usr/share/keyrings/debian-buster.gpg\n",
        "apt-key export 22F3D138 | gpg --dearmour -o /usr/share/keyrings/debian-buster-updates.gpg\n",
        "apt-key export E562B32A | gpg --dearmour -o /usr/share/keyrings/debian-security-buster.gpg\n",
        "\n",
        "# Prefer debian repo for chromium* packages only\n",
        "# Note the double-blank lines between entries\n",
        "cat > /etc/apt/preferences.d/chromium.pref << 'EOF'\n",
        "Package: *\n",
        "Pin: release a=eoan\n",
        "Pin-Priority: 500\n",
        "\n",
        "\n",
        "Package: *\n",
        "Pin: origin \"deb.debian.org\"\n",
        "Pin-Priority: 300\n",
        "\n",
        "\n",
        "Package: chromium*\n",
        "Pin: origin \"deb.debian.org\"\n",
        "Pin-Priority: 700\n",
        "EOF\n",
        "\n",
        "# Install chromium and chromium-driver\n",
        "apt-get update\n",
        "apt-get install chromium chromium-driver\n",
        "\n",
        "# Install selenium\n",
        "pip install selenium"
      ],
      "metadata": {
        "id": "oZoHXVJCbizB"
      },
      "execution_count": null,
      "outputs": []
    },
    {
      "cell_type": "code",
      "metadata": {
        "id": "aYBciNPhKTjG"
      },
      "source": [
        "import pandas as pd\n",
        "from time import sleep\n",
        "from selenium import webdriver\n",
        "from selenium.webdriver.common.by import By\n",
        "import os\n",
        "import calendar\n",
        "import time"
      ],
      "execution_count": null,
      "outputs": []
    },
    {
      "cell_type": "code",
      "source": [
        "chrome_options = webdriver.ChromeOptions()\n",
        "chrome_options.add_argument('--headless')\n",
        "chrome_options.add_argument('--no-sandbox')\n",
        "chrome_options.add_argument('--disable-dev-shm-usage')\n",
        "wd_chrome = webdriver.Chrome(options=chrome_options)"
      ],
      "metadata": {
        "id": "GNKo0jP4YEvq"
      },
      "execution_count": null,
      "outputs": []
    },
    {
      "cell_type": "code",
      "source": [
        "from selenium.webdriver.support.ui import WebDriverWait\n",
        "from selenium.webdriver.common.by import By\n",
        "from selenium.webdriver.support import expected_conditions as EC"
      ],
      "metadata": {
        "id": "ailKNJMONBUm"
      },
      "execution_count": null,
      "outputs": []
    },
    {
      "cell_type": "markdown",
      "source": [
        "#lista de url a ser passada na celula abaixo com o respectivo ano de inicio (se for passado um link com data de inicio errada vai dar erro)"
      ],
      "metadata": {
        "id": "4lP4FTfwd9Vr"
      }
    },
    {
      "cell_type": "markdown",
      "source": [
        "IBOV (1998~) = https://www.b3.com.br/pt_br/market-data-e-indices/indices/indices-amplos/indice-ibovespa-ibovespa-estatisticas-historicas.htm\n",
        "\n",
        "IBRX 100 (1998~) = https://www.b3.com.br/pt_br/market-data-e-indices/indices/indices-amplos/indice-brasil-100-ibrx-100-estatisticas-historicas.htm\n",
        "\n",
        "IBRX 50 (1998~)= https://www.b3.com.br/pt_br/market-data-e-indices/indices/indices-amplos/indice-brasil-50-ibrx-50-estatisticas-historicas.htm\n",
        "\n",
        "IBRA (2006~)= https://www.b3.com.br/pt_br/market-data-e-indices/indices/indices-amplos/indice-brasil-amplo-ibra-estatisticas-historicas.htm\n",
        "\n",
        "SMLL (2006~) = https://www.b3.com.br/pt_br/market-data-e-indices/indices/indices-de-segmentos-e-setoriais/indice-small-cap-smll-estatisticas-historicas.htm\n",
        "\n",
        "IFIX (2011~)= https://www.b3.com.br/pt_br/market-data-e-indices/indices/indices-de-segmentos-e-setoriais/indice-fundos-de-investimentos-imobiliarios-ifix-estatisticas-historicas.htm\n",
        "\n",
        "IEEX (1998~) = https://www.b3.com.br/pt_br/market-data-e-indices/indices/indices-de-segmentos-e-setoriais/indice-energia-eletrica-iee-estatisticas-historicas.htm\n",
        "\n",
        "IDIV (2006~) = https://www.b3.com.br/pt_br/market-data-e-indices/indices/indices-de-segmentos-e-setoriais/indice-dividendos-idiv-estatisticas-historicas.htm\n",
        "\n",
        "IVBX2 (2000~) = https://www.b3.com.br/pt_br/market-data-e-indices/indices/indices-de-segmentos-e-setoriais/indice-valor-2-linha-ivbx-2-estatisticas-historicas.htm"
      ],
      "metadata": {
        "id": "nziD1SvevesU"
      }
    },
    {
      "cell_type": "code",
      "source": [
        "#Baixa todos os arquivos a partir de 1998 a 2023 e renomeia para '1998.csv'\n",
        "url = 'https://www.b3.com.br/pt_br/market-data-e-indices/indices/indices-amplos/indice-brasil-100-ibrx-100-estatisticas-historicas.htm'\n",
        "wd_chrome.get(url)\n",
        "iframe = wd_chrome.find_element(By.ID, value= \"bvmf_iframe\")    \n",
        "wd_chrome.switch_to.frame(iframe)\n",
        "\n",
        "for i in range(2000,2024): #ano de inicio e fim (atencao para a lista acima com o inicio de ano de cada indice)\n",
        "\n",
        "  WebDriverWait(wd_chrome, 5).until(EC.element_to_be_clickable((By.XPATH, '//*[@id=\"selectYear\"]'))).send_keys(f'{i}')\n",
        "  wd_chrome.switch_to.active_element\n",
        "  WebDriverWait(wd_chrome, 5).until(EC.element_to_be_clickable((By.LINK_TEXT, 'Download (ano selecionado)')))\n",
        "  down = wd_chrome.find_element(By.LINK_TEXT, value='Download (ano selecionado)')\n",
        "  \n",
        "  wd_chrome.execute_script(\"arguments[0].click();\", down)\n",
        "  time.sleep(2)\n",
        "  while not os.path.isfile('/content/Evolucao_Diaria.csv'):\n",
        "    if os.stat('/content/Evolucao_Diaria.csv').st_size == 0:\n",
        "      time.sleep(2)\n",
        "    time.sleep(0.2)\n",
        "  os.rename('Evolucao_Diaria.csv', f'{i}.csv')"
      ],
      "metadata": {
        "id": "VETJpI9ObZZ4"
      },
      "execution_count": null,
      "outputs": []
    },
    {
      "cell_type": "code",
      "metadata": {
        "id": "QO1rYn8QLuOA"
      },
      "source": [
        "#cria uma lista com os nomes dos arquivos para iterar\n",
        "arquivo = !ls -1t *.csv\n",
        "arquivo = arquivo.sort()"
      ],
      "execution_count": null,
      "outputs": []
    },
    {
      "cell_type": "code",
      "source": [
        "lista = []"
      ],
      "metadata": {
        "id": "iYTkcqBraSSe"
      },
      "execution_count": null,
      "outputs": []
    },
    {
      "cell_type": "markdown",
      "source": [
        "#itera sobre a lista de arquivos e junta todos em um dataframe\n",
        "(se algum erro ocorre aqui é devido a algum ano o arquivo esta em branco e precisa ser baixado novamente)\n",
        "\n",
        "renomeie o nome da coluna com o nome do indice na linha 5: value_name='ibrx'"
      ],
      "metadata": {
        "id": "uDS5BSmBdPqo"
      }
    },
    {
      "cell_type": "code",
      "source": [
        "#itera em cada arquivo csv transformando a data para o formato datetime pandas\n",
        "for i in arquivo:\n",
        "  df = pd.read_csv(i, sep=';', encoding='ISO-8859-1', skipfooter=2, engine='python', thousands='.', decimal=',', header=1, index_col=False)\n",
        "  df.columns = calendar.month_name[0:13]\n",
        "  df1 = df.melt('', var_name='Date', value_name='ibrx')\n",
        "  df1 = df1.dropna()\n",
        "  df1.index = pd.to_datetime(i.rstrip('.csv') + df1.Date + df1.pop('').astype(str), format='%Y%B%d', errors='coerce')\n",
        "  df1 = df1.drop(columns=['Date'])\n",
        "  lista.append(df1)"
      ],
      "metadata": {
        "id": "a_fE2E_yJ_Hd"
      },
      "execution_count": null,
      "outputs": []
    },
    {
      "cell_type": "markdown",
      "source": [
        "#nomeie a variavel com o nome do indice"
      ],
      "metadata": {
        "id": "mwk33ugtdkYp"
      }
    },
    {
      "cell_type": "code",
      "source": [
        "ibrx = pd.concat(lista)"
      ],
      "metadata": {
        "id": "sohUCJvqT6C2"
      },
      "execution_count": null,
      "outputs": []
    },
    {
      "cell_type": "code",
      "source": [
        "ibrx.plot()"
      ],
      "metadata": {
        "colab": {
          "base_uri": "https://localhost:8080/",
          "height": 273
        },
        "id": "GOhocvigv2SA",
        "outputId": "7e1308eb-9dc2-4f67-e268-39572c13e240"
      },
      "execution_count": null,
      "outputs": [
        {
          "output_type": "execute_result",
          "data": {
            "text/plain": [
              "<matplotlib.axes._subplots.AxesSubplot at 0x7f815a4c3160>"
            ]
          },
          "metadata": {},
          "execution_count": 11
        },
        {
          "output_type": "display_data",
          "data": {
            "text/plain": [
              "<Figure size 432x288 with 1 Axes>"
            ],
            "image/png": "[encoded data removed]"
          },
          "metadata": {
            "needs_background": "light"
          }
        }
      ]
    },
    {
      "cell_type": "markdown",
      "source": [
        "#Crie uma lista com os indices baixados "
      ],
      "metadata": {
        "id": "3Te5dcj-cowU"
      }
    },
    {
      "cell_type": "code",
      "source": [
        "baixados = [ibov, ibrx, ibrx50, ibra, smll, ifix, ieex, idiv, ivbx2]"
      ],
      "metadata": {
        "id": "gcPTUAIkzyHz"
      },
      "execution_count": null,
      "outputs": []
    },
    {
      "cell_type": "markdown",
      "source": [
        "#remove os arquivos do diretorio para baixar outro indice"
      ],
      "metadata": {
        "id": "qaFK3Dlmcxuy"
      }
    },
    {
      "cell_type": "code",
      "source": [
        "for i in arquivo:\n",
        "  os.remove(i)"
      ],
      "metadata": {
        "id": "iUC567Rt1k_W"
      },
      "execution_count": null,
      "outputs": []
    },
    {
      "cell_type": "markdown",
      "source": [
        "#junta todos os indices baixados"
      ],
      "metadata": {
        "id": "q4Dxth6ddBRL"
      }
    },
    {
      "cell_type": "code",
      "source": [
        "indices = pd.concat(baixados, axis=1)"
      ],
      "metadata": {
        "id": "LYxawjcF6YoL"
      },
      "execution_count": null,
      "outputs": []
    },
    {
      "cell_type": "markdown",
      "source": [
        "#salva os indices baixados no seu google drive"
      ],
      "metadata": {
        "id": "NDR-u-8zdGQX"
      }
    },
    {
      "cell_type": "code",
      "source": [
        "pd.to_pickle(indices, '/content/drive/MyDrive/Colab Notebooks/dataset/indices.pkl')"
      ],
      "metadata": {
        "id": "7nYC3_tR6aiR"
      },
      "execution_count": null,
      "outputs": []
    },
    {
      "cell_type": "code",
      "source": [
        "indices"
      ],
      "metadata": {
        "id": "ZFxkra1tyBwf"
      },
      "execution_count": null,
      "outputs": []
    }
  ]
}